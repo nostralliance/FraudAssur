{
 "cells": [
  {
   "cell_type": "markdown",
   "metadata": {},
   "source": [
    "# Postman\n",
    "---"
   ]
  },
  {
   "cell_type": "markdown",
   "metadata": {},
   "source": [
    "se rendre sur le site de postman via cette URL : https://www.postman.com/"
   ]
  },
  {
   "cell_type": "markdown",
   "metadata": {},
   "source": [
    "## cliquer ici :  \n",
    "![alt text](<capture/Capture d'écran 2024-10-04 091534.png>)"
   ]
  },
  {
   "cell_type": "markdown",
   "metadata": {},
   "source": [
    "---\n",
    "## ensuite cliquer ici :  \n",
    "![alt text](<capture/Capture d'écran 2024-10-04 091611.png>)"
   ]
  },
  {
   "cell_type": "markdown",
   "metadata": {},
   "source": [
    "---\n",
    "# Requete"
   ]
  },
  {
   "cell_type": "markdown",
   "metadata": {},
   "source": [
    "Suivre la démarche inscrite sur la capture d'écran, choisir la méthode POST, entrer l'URL et dans Authorization selectionner bearer Token puis entrer dans la celulle Token : \"apin@fraude.fr\"  \n",
    "![alt text](capture/3.png)"
   ]
  },
  {
   "cell_type": "markdown",
   "metadata": {},
   "source": [
    "---\n",
    "Une fois cela fait il ne reste plus qu'a saisir le json dans l'onglet \"body\" puis \"raw\" comme ci-dessous :  "
   ]
  },
  {
   "cell_type": "markdown",
   "metadata": {},
   "source": [
    "![alt text](<capture/Capture d'écran 2024-10-04 094135.png>)  \n",
    "Puis cliquez sur \"send\", la requete est envoyer avec succès."
   ]
  },
  {
   "cell_type": "markdown",
   "metadata": {},
   "source": [
    "---\n",
    "Réponse attendu : "
   ]
  },
  {
   "cell_type": "markdown",
   "metadata": {},
   "source": [
    "![alt text](<capture/Capture d'écran 2024-10-04 093556.png>)"
   ]
  }
 ],
 "metadata": {
  "language_info": {
   "name": "python"
  }
 },
 "nbformat": 4,
 "nbformat_minor": 2
}
